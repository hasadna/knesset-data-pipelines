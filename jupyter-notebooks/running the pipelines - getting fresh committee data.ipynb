{
 "cells": [
  {
   "cell_type": "markdown",
   "metadata": {},
   "source": [
    "# Running pipelines"
   ]
  },
  {
   "cell_type": "markdown",
   "metadata": {},
   "source": [
    "The pipelines are run on the server periodically and based on pipeline and data dependencies. \n",
    "\n",
    "You can also run specific pipelines manually for development or to run custom pipelines."
   ]
  },
  {
   "cell_type": "markdown",
   "metadata": {},
   "source": [
    "## Change directory to project root\n",
    "\n",
    "The Jupyter notebooks run in the jupyter-notebooks directory. To run pipelines you need to change directory to the parent directory\n",
    "\n",
    "When running using Docker the directory will be `/pipelines`"
   ]
  },
  {
   "cell_type": "code",
   "execution_count": 1,
   "metadata": {},
   "outputs": [
    {
     "data": {
      "text/plain": [
       "'/pipelines'"
      ]
     },
     "execution_count": 1,
     "metadata": {},
     "output_type": "execute_result"
    }
   ],
   "source": [
    "import os\n",
    "\n",
    "os.chdir('..')\n",
    "os.getcwd()"
   ]
  },
  {
   "cell_type": "markdown",
   "metadata": {},
   "source": [
    "## List the available pipelines"
   ]
  },
  {
   "cell_type": "code",
   "execution_count": 2,
   "metadata": {},
   "outputs": [
    {
     "name": "stdout",
     "output_type": "stream",
     "text": [
      "Available Pipelines:\n",
      "- ./knesset/kns_knessetdates (*)\n",
      "- ./knesset/kns_govministry (*)\n",
      "- ./knesset/kns_itemtype (*)\n",
      "- ./knesset/kns_status (*)\n",
      "- ./members/kns_person (*)\n",
      "- ./members/kns_position (*)\n",
      "- ./members/kns_persontoposition (*)\n",
      "- ./members/kns_mksitecode (*)\n",
      "- ./members/mk_individual (E)\n",
      "\tDirty dependency: Cannot run until dependency is executed: ./members/kns_mksitecode\n",
      "\tMissing dependency: Couldn't open datapackage data/members/kns_mksitecode/datapackage.json\n",
      "\tDirty dependency: Cannot run until dependency is executed: ./members/kns_persontoposition\n",
      "\tMissing dependency: Couldn't open datapackage data/members/kns_persontoposition/datapackage.json\n",
      "\tDirty dependency: Cannot run until dependency is executed: ./members/kns_position\n",
      "\tMissing dependency: Couldn't open datapackage data/members/kns_position/datapackage.json\n",
      "\tDirty dependency: Cannot run until dependency is executed: ./members/kns_person\n",
      "\tMissing dependency: Couldn't open datapackage data/members/kns_person/datapackage.json\n",
      "\tDirty dependency: Cannot run until dependency is executed: ./knesset/kns_knessetdates\n",
      "\tMissing dependency: Couldn't open datapackage data/knesset/kns_knessetdates/datapackage.json\n",
      "- ./members/presence (*)\n",
      "- ./laws/kns_law (*)\n",
      "- ./laws/kns_law_binding (*)\n",
      "- ./laws/kns_document_law (*)\n",
      "- ./laws/kns_israel_law (*)\n",
      "- ./laws/kns_israel_law_name (*)\n",
      "- ./laws/kns_israel_law_ministry (*)\n",
      "- ./laws/kns_israel_law_classification (*)\n",
      "- ./laws/kns_israel_law_binding (*)\n",
      "- ./votes/view_vote_mk_individual (*)\n",
      "- ./votes/vote_result_type (*)\n",
      "- ./votes/vote_rslts_kmmbr_shadow (*)(E)\n",
      "\tDirty dependency: Cannot run until dependency is executed: ./votes/vote_result_type\n",
      "\tMissing dependency: Couldn't open datapackage data/votes/vote_result_type/datapackage.json\n",
      "- ./votes_kmember/join_votes_shadow_mk (*)\n",
      "- ./plenum/kns_plenumsession (*)\n",
      "- ./plenum/kns_plmsessionitem (*)\n",
      "- ./plenum/kns_documentplenumsession (*)\n",
      "- ./bills/kns_bill (*)\n",
      "- ./bills/kns_billname (*)\n",
      "- ./bills/kns_billinitiator (*)\n",
      "- ./bills/kns_billhistoryinitiator (*)\n",
      "- ./bills/kns_billsplit (*)\n",
      "- ./bills/kns_billunion (*)\n",
      "- ./bills/kns_documentbill (*)\n",
      "- ./committees/kns_committee \n",
      "- ./committees/kns_jointcommittee (*)\n",
      "- ./committees/kns_cmtsitecode (*)\n",
      "- ./committees/kns_cmtsessionitem (*)\n",
      "- ./committees/kns_documentcommitteesession (*)\n",
      "- ./committees/sync-documents (*)(E)\n",
      "\tDirty dependency: Cannot run until dependency is executed: ./committees/kns_documentcommitteesession\n",
      "\tMissing dependency: Couldn't open datapackage data/committees/kns_documentcommitteesession/datapackage.json\n",
      "- ./committees/kns_committeesession (*)(E)\n",
      "\tDirty dependency: Cannot run until dependency is executed: ./committees/kns_cmtsessionitem\n",
      "\tMissing dependency: Couldn't open datapackage data/committees/kns_cmtsessionitem/datapackage.json\n",
      "\tDirty dependency: Cannot run until dependency is executed: ./committees/kns_documentcommitteesession\n",
      "\tMissing dependency: Couldn't open datapackage data/committees/kns_documentcommitteesession/datapackage.json\n",
      "- ./committees/dist/copy_static_files (*)\n",
      "- ./committees/dist/build_positions (*)\n",
      "- ./committees/dist/create_factions (*)(E)\n",
      "\tDirty dependency: Cannot run until dependency is executed: ./committees/dist/build_positions\n",
      "\tMissing dependency: Couldn't open datapackage data/committees/dist/positions_aggr/datapackage.json\n",
      "- ./lobbyists/v_lobbyist (*)\n",
      "- ./lobbyists/v_lobbyist_clients (*)\n",
      "- ./people/source-data-stats (*)(E)\n",
      "\tDirty dependency: Cannot run until dependency is executed: ./committees/kns_committeesession\n",
      "\tMissing dependency: Couldn't open datapackage data/committees/kns_committeesession/datapackage.json\n",
      "- ./people/committee-meeting-attendees (E)\n",
      "\tDirty dependency: Cannot run until dependency is executed: ./committees/kns_committeesession\n",
      "\tMissing dependency: Couldn't open datapackage data/committees/kns_committeesession/datapackage.json\n",
      "- ./people/committee-meeting-attendees-mks-stats (*)\n",
      "- ./people/committee-meeting-attendees-mks-full-stats (*)(E)\n",
      "\tDirty dependency: Cannot run until dependency is executed: ./committees/kns_committeesession\n",
      "\tMissing dependency: Couldn't open datapackage data/committees/kns_committeesession/datapackage.json\n",
      "\tDirty dependency: Cannot run until dependency is executed: ./knesset/kns_knessetdates\n",
      "\tMissing dependency: Couldn't open datapackage data/knesset/kns_knessetdates/datapackage.json\n",
      "- ./people/attendance/committee-meetings (*)(E)\n",
      "\tDirty dependency: Cannot run until dependency is executed: ./knesset/kns_knessetdates\n",
      "\tMissing dependency: Couldn't open datapackage data/knesset/kns_knessetdates/datapackage.json\n",
      "- ./people/attendance/committee-meetings-export (*)(E)\n",
      "\tDirty dependency: Cannot run until dependency is executed: ./people/attendance/committee-meetings\n",
      "\tMissing dependency: Couldn't open datapackage data/people/attendance/committee_meetings/datapackage.json\n",
      "- ./people/attendance/committee-meetings-govministries (*)\n",
      "- ./votes/view_vote_rslts_hdr_approved (*)(E)\n",
      "\tDirty dependency: Cannot run until dependency is executed: ./votes/vote_rslts_kmmbr_shadow\n",
      "\tMissing dependency: Couldn't open datapackage data/votes/vote_rslts_kmmbr_shadow/datapackage.json\n",
      "\tDirty dependency: Cannot run until dependency is executed: ./knesset/kns_knessetdates\n",
      "\tMissing dependency: Couldn't open datapackage data/knesset/kns_knessetdates/datapackage.json\n",
      "- ./committees/background_material_titles (*)(E)\n",
      "\tDirty dependency: Cannot run until dependency is executed: ./committees/kns_documentcommitteesession\n",
      "\tMissing dependency: Couldn't open datapackage data/committees/kns_documentcommitteesession/datapackage.json\n",
      "\tDirty dependency: Cannot run until dependency is executed: ./committees/kns_committeesession\n",
      "\tMissing dependency: Couldn't open datapackage data/committees/kns_committeesession/datapackage.json\n",
      "- ./committees/dist/build \n",
      "- ./committees/dist/render_meetings (*)\n",
      "- ./committees/dist/render_committees (*)(E)\n",
      "\tDirty dependency: Cannot run until dependency is executed: ./committees/dist/render_meetings\n",
      "\tMissing dependency: Couldn't open datapackage data/committees/dist/rendered_meetings_stats/datapackage.json\n",
      "- ./committees/dist/create_members (*)\n",
      "- ./committees/dist/sync-dist (*)(E)\n",
      "\tDirty dependency: Cannot run until dependency is executed: ./committees/dist/render_meetings\n",
      "\tDirty dependency: Cannot run until dependency is executed: ./committees/dist/render_committees\n",
      "\tDirty dependency: Cannot run until dependency is executed: ./committees/dist/create_members\n",
      "\tDirty dependency: Cannot run until dependency is executed: ./committees/dist/create_factions\n",
      "- ./web_ui/meetings (*)\n",
      "- ./people/plenum-session-voters (*)(E)\n",
      "\tDirty dependency: Cannot run until dependency is executed: ./votes/view_vote_rslts_hdr_approved\n",
      "\tMissing dependency: Couldn't open datapackage data/votes/view_vote_rslts_hdr_approved/datapackage.json\n",
      "\tDirty dependency: Cannot run until dependency is executed: ./plenum/kns_plenumsession\n",
      "\tMissing dependency: Couldn't open datapackage data/plenum/kns_plenumsession/datapackage.json\n",
      "- ./people/plenum-session-voters-stats (*)(E)\n",
      "\tDirty dependency: Cannot run until dependency is executed: ./knesset/kns_knessetdates\n",
      "\tMissing dependency: Couldn't open datapackage data/knesset/kns_knessetdates/datapackage.json\n",
      "\tDirty dependency: Cannot run until dependency is executed: ./plenum/kns_plenumsession\n",
      "\tMissing dependency: Couldn't open datapackage data/plenum/kns_plenumsession/datapackage.json\n",
      "\tDirty dependency: Cannot run until dependency is executed: ./people/plenum-session-voters\n",
      "\tMissing dependency: Couldn't open datapackage data/people/plenum/session_voters/datapackage.json\n",
      "- ./people/mk-voted-against-majority (*)(E)\n",
      "\tDirty dependency: Cannot run until dependency is executed: ./votes/view_vote_rslts_hdr_approved\n",
      "\tMissing dependency: Couldn't open datapackage data/votes/view_vote_rslts_hdr_approved/datapackage.json\n",
      "- ./people/mk-party-discipline-stats (*)(E)\n",
      "\tDirty dependency: Cannot run until dependency is executed: ./knesset/kns_knessetdates\n",
      "\tMissing dependency: Couldn't open datapackage data/knesset/kns_knessetdates/datapackage.json\n",
      "\tDirty dependency: Cannot run until dependency is executed: ./votes/view_vote_rslts_hdr_approved\n",
      "\tMissing dependency: Couldn't open datapackage data/votes/view_vote_rslts_hdr_approved/datapackage.json\n",
      "\tDirty dependency: Cannot run until dependency is executed: ./people/mk-voted-against-majority\n",
      "\tMissing dependency: Couldn't open datapackage data/people/mk_voted_against_majority/datapackage.json\n",
      "- ./people/mk-party-discipline-reports (*)(E)\n",
      "\tDirty dependency: Cannot run until dependency is executed: ./people/mk-voted-against-majority\n",
      "\tMissing dependency: Couldn't open datapackage data/people/mk_voted_against_majority/datapackage.json\n",
      "- ./people/mk-party-discipline-reports-export (*)(E)\n",
      "\tDirty dependency: Cannot run until dependency is executed: ./people/mk-party-discipline-reports\n",
      "\tMissing dependency: Couldn't open datapackage data/people/mk_party_discipline_reports/datapackage.json\n",
      "- ./people/attendance/plenum-votes (*)(E)\n",
      "\tDirty dependency: Cannot run until dependency is executed: ./knesset/kns_knessetdates\n",
      "\tMissing dependency: Couldn't open datapackage data/knesset/kns_knessetdates/datapackage.json\n",
      "\tDirty dependency: Cannot run until dependency is executed: ./people/plenum-session-voters\n",
      "\tMissing dependency: Couldn't open datapackage data/people/plenum/session_voters/datapackage.json\n"
     ]
    }
   ],
   "source": [
    "!{'dpp'}"
   ]
  },
  {
   "cell_type": "markdown",
   "metadata": {},
   "source": [
    "## Run a pipeline\n",
    "\n",
    "The following runs the `./committees/kns_committee` pipeline which downloads committees from the Knesset API"
   ]
  },
  {
   "cell_type": "code",
   "execution_count": 3,
   "metadata": {},
   "outputs": [
    {
     "name": "stdout",
     "output_type": "stream",
     "text": [
      "[./committees/kns_committee:T_0] >>> INFO    :ce2aa8bd RUNNING ./committees/kns_committee\n",
      "[./committees/kns_committee:T_0] >>> INFO    :ce2aa8bd Collecting dependencies\n",
      "[./committees/kns_committee:T_0] >>> INFO    :ce2aa8bd Running async task\n",
      "[./committees/kns_committee:T_0] >>> INFO    :ce2aa8bd Waiting for completion\n",
      "[./committees/kns_committee:T_0] >>> INFO    :ce2aa8bd Async task starting\n",
      "[./committees/kns_committee:T_0] >>> INFO    :ce2aa8bd Searching for existing caches\n",
      "[./committees/kns_committee:T_0] >>> INFO    :ce2aa8bd Building process chain:\n",
      "[./committees/kns_committee:T_0] >>> INFO    :- ..datapackage_pipelines_knesset.dataservice.processors.add_dataservice_collection_resource\n",
      "[./committees/kns_committee:T_0] >>> INFO    :- ..datapackage_pipelines_knesset.common.processors.throttle\n",
      "[./committees/kns_committee:T_0] >>> INFO    :- knesset.dump_to_path\n",
      "[./committees/kns_committee:T_0] >>> INFO    :- knesset.dump_to_sql\n",
      "[./committees/kns_committee:T_0] >>> INFO    :- (sink)\n",
      "[./committees/kns_committee:T_0] >>> INFO    :..datapackage_pipelines_knesset.dataservice.processors.add_dataservice_collection_resource: INFO    :Loading dataservice resource from service api method KNS_Committee\n",
      "[./committees/kns_committee:T_0] >>> INFO    :..datapackage_pipelines_knesset.common.processors.throttle: INFO    :throttling resource kns_committee: sleep_seconds=0.01\n",
      "[./committees/kns_committee:T_0] >>> INFO    :..datapackage_pipelines_knesset.dataservice.processors.add_dataservice_collection_resource: INFO    :Processed 729 rows\n",
      "[./committees/kns_committee:T_0] >>> INFO    :..datapackage_pipelines_knesset.common.processors.throttle: INFO    :Processed 729 rows\n",
      "[./committees/kns_committee:T_0] >>> INFO    :knesset.dump_to_path: INFO    :Processed 729 rows\n",
      "[./committees/kns_committee:T_0] >>> INFO    :knesset.dump_to_sql: INFO    :Processed 729 rows\n",
      "[./committees/kns_committee:T_0] >>> INFO    :ce2aa8bd DONE /pipelines/committees/../datapackage_pipelines_knesset/common/processors/throttle.py\n",
      "[./committees/kns_committee:T_0] >>> INFO    :ce2aa8bd DONE /pipelines/committees/../datapackage_pipelines_knesset/dataservice/processors/add_dataservice_collection_resource.py\n",
      "[./committees/kns_committee:T_0] >>> INFO    :ce2aa8bd DONE /usr/local/lib/python3.6/site-packages/datapackage_pipelines/manager/../lib/internal/sink.py\n",
      "[./committees/kns_committee:T_0] >>> INFO    :ce2aa8bd DONE /pipelines/datapackage_pipelines_knesset/processors/dump_to_path.py\n",
      "[./committees/kns_committee:T_0] >>> INFO    :ce2aa8bd DONE /pipelines/datapackage_pipelines_knesset/processors/dump_to_sql.py\n",
      "[./committees/kns_committee:T_0] >>> INFO    :ce2aa8bd DONE V ./committees/kns_committee {'.dpp': {'out-datapackage-url': '../data/committees/kns_committee/datapackage.json'}, 'bytes': None, 'count_of_rows': 729, 'dataset_name': '_', 'hash': '5210059f10cb258a718a29af8796397a'}\n",
      "INFO    :RESULTS:\n",
      "INFO    :SUCCESS: ./committees/kns_committee {'bytes': None, 'count_of_rows': 729, 'dataset_name': '_', 'hash': '5210059f10cb258a718a29af8796397a'}\n"
     ]
    }
   ],
   "source": [
    "!{'dpp run --verbose ./committees/kns_committee'}"
   ]
  },
  {
   "cell_type": "markdown",
   "metadata": {},
   "source": [
    "## Inspect the output datapackage descriptor\n",
    "\n",
    "Pipelines use datapackages as the primary input and output data.\n",
    "\n",
    "Pipeline and datapackage names usually match, so the output of the `./committees/kns_committee` pipeline is available at local directory `./data/committees/kns_committee/datapackage.json`"
   ]
  },
  {
   "cell_type": "code",
   "execution_count": 4,
   "metadata": {},
   "outputs": [],
   "source": [
    "KNS_COMMITTEE_DATAPACKAGE_PATH = './data/committees/kns_committee/datapackage.json'"
   ]
  },
  {
   "cell_type": "markdown",
   "metadata": {},
   "source": [
    "Each package may contain multiple resources, let's see which resource names are available for the kns_committee package"
   ]
  },
  {
   "cell_type": "code",
   "execution_count": 5,
   "metadata": {},
   "outputs": [
    {
     "data": {
      "text/plain": [
       "['kns_committee']"
      ]
     },
     "execution_count": 5,
     "metadata": {},
     "output_type": "execute_result"
    }
   ],
   "source": [
    "from datapackage import Package\n",
    "\n",
    "kns_committee_package = Package(KNS_COMMITTEE_DATAPACKAGE_PATH)\n",
    "kns_committee_package.resource_names"
   ]
  },
  {
   "cell_type": "code",
   "execution_count": 6,
   "metadata": {},
   "outputs": [],
   "source": [
    "KNS_COMMITTEE_RESOURE_NAME = 'kns_committee'"
   ]
  },
  {
   "cell_type": "markdown",
   "metadata": {},
   "source": [
    "Inspect the kns_committee resource descriptor which includes metadata and field descriptions"
   ]
  },
  {
   "cell_type": "code",
   "execution_count": 7,
   "metadata": {},
   "outputs": [
    {
     "name": "stdout",
     "output_type": "stream",
     "text": [
      "bytes: 175227\n",
      "count_of_rows: 729\n",
      "dialect:\n",
      "  delimiter: ','\n",
      "  doubleQuote: true\n",
      "  lineTerminator: \"\\r\\n\"\n",
      "  quoteChar: '\"'\n",
      "  skipInitialSpace: false\n",
      "encoding: utf-8\n",
      "format: csv\n",
      "hash: 7a034fe5da80e37c797770486ab35e79\n",
      "name: kns_committee\n",
      "path: kns_committee.csv\n",
      "profile: data-resource\n",
      "schema:\n",
      "  fields:\n",
      "  - description: קוד הוועדה\n",
      "    name: CommitteeID\n",
      "    type: integer\n",
      "  - description: שם הוועדה\n",
      "    name: Name\n",
      "    type: string\n",
      "  - description: קוד הקטגוריה של הוועדה\n",
      "    name: CategoryID\n",
      "    type: integer\n",
      "  - description: 'תיאור הקטגוריה של הוועדה בכל כנסת, כל הוועדות מוקמות מחדש. השדה\n",
      "      קטגוריה כולל את רשימת הקטגוריות הנושאיות שאליהן משויכות הוועדות. למשל הקטגוריה\n",
      "      של ועדת הפנים והגנת הסביבה היא \"פנים\" וכך היה גם כאשר שם הוועדה היה ועדת הפנים\n",
      "      ואיכות הסביבה. גם ועדות המשנה של כל ועדה משויכות לקטגוריה שלה. מדובר בשיוך נושאי\n",
      "      של הוועדות.\n",
      "\n",
      "      '\n",
      "    name: CategoryDesc\n",
      "    type: string\n",
      "  - description: מספר הכנסת\n",
      "    name: KnessetNum\n",
      "    type: integer\n",
      "  - description: קוד סוג הוועדה\n",
      "    name: CommitteeTypeID\n",
      "    type: integer\n",
      "  - description: 'תיאור סוג הוועדה (ראשית, מיוחדת, משנה, משותפת, הכנסת)\n",
      "\n",
      "      '\n",
      "    name: CommitteeTypeDesc\n",
      "    type: string\n",
      "  - description: כתובת הדוא\"ל של הוועדה\n",
      "    name: Email\n",
      "    type: string\n",
      "  - description: תאריך התחלה\n",
      "    format: '%Y-%m-%d %H:%M:%S'\n",
      "    name: StartDate\n",
      "    type: datetime\n",
      "  - description: תאריך סיום\n",
      "    format: '%Y-%m-%d %H:%M:%S'\n",
      "    name: FinishDate\n",
      "    type: datetime\n",
      "  - description: קוד סוג משנה של הוועדה\n",
      "    name: AdditionalTypeID\n",
      "    type: integer\n",
      "  - description: תיאור סוג משנה של הוועדה (קבועה, מיוחדת, חקירה)\n",
      "    name: AdditionalTypeDesc\n",
      "    type: string\n",
      "  - description: קוד ועדת האם (רלוונטי רק לוועדת משנה)\n",
      "    name: ParentCommitteeID\n",
      "    type: integer\n",
      "  - description: תיאור ועדת האם\n",
      "    name: CommitteeParentName\n",
      "    type: string\n",
      "  - description: האם הוועדה פעילה?\n",
      "    name: IsCurrent\n",
      "    type: boolean\n",
      "  - description: תאריך עדכון אחרון\n",
      "    format: '%Y-%m-%d %H:%M:%S'\n",
      "    name: LastUpdatedDate\n",
      "    type: datetime\n",
      "\n"
     ]
    }
   ],
   "source": [
    "import yaml\n",
    "\n",
    "print(yaml.dump(kns_committee_package.get_resource(KNS_COMMITTEE_RESOURE_NAME).descriptor, \n",
    "                allow_unicode=True, default_flow_style=False))"
   ]
  },
  {
   "cell_type": "markdown",
   "metadata": {},
   "source": [
    "Print the first 5 row of data"
   ]
  },
  {
   "cell_type": "code",
   "execution_count": 8,
   "metadata": {},
   "outputs": [
    {
     "name": "stdout",
     "output_type": "stream",
     "text": [
      "-- row 1 --\n",
      "AdditionalTypeDesc: קבועה\n",
      "AdditionalTypeID: 991\n",
      "CategoryDesc: ועדת הכנסת\n",
      "CategoryID: 1\n",
      "CommitteeID: 1\n",
      "CommitteeParentName: null\n",
      "CommitteeTypeDesc: ועדת הכנסת\n",
      "CommitteeTypeID: 70\n",
      "Email: vadatk@knesset.gov.il\n",
      "FinishDate: null\n",
      "IsCurrent: true\n",
      "KnessetNum: 15\n",
      "LastUpdatedDate: 2017-04-24 16:47:06\n",
      "Name: הכנסת\n",
      "ParentCommitteeID: null\n",
      "StartDate: 1999-06-07 00:00:00\n",
      "\n",
      "-- row 2 --\n",
      "AdditionalTypeDesc: קבועה\n",
      "AdditionalTypeID: 991\n",
      "CategoryDesc: ועדת הכספים\n",
      "CategoryID: 2\n",
      "CommitteeID: 2\n",
      "CommitteeParentName: null\n",
      "CommitteeTypeDesc: ועדה ראשית\n",
      "CommitteeTypeID: 71\n",
      "Email: null\n",
      "FinishDate: null\n",
      "IsCurrent: true\n",
      "KnessetNum: 15\n",
      "LastUpdatedDate: 2015-03-20 12:02:57\n",
      "Name: הכספים\n",
      "ParentCommitteeID: null\n",
      "StartDate: 1999-06-07 00:00:00\n",
      "\n",
      "-- row 3 --\n",
      "AdditionalTypeDesc: קבועה\n",
      "AdditionalTypeID: 991\n",
      "CategoryDesc: ועדת החוץ והביטחון\n",
      "CategoryID: 4\n",
      "CommitteeID: 3\n",
      "CommitteeParentName: null\n",
      "CommitteeTypeDesc: ועדה ראשית\n",
      "CommitteeTypeID: 71\n",
      "Email: null\n",
      "FinishDate: null\n",
      "IsCurrent: true\n",
      "KnessetNum: 15\n",
      "LastUpdatedDate: 2015-03-20 12:02:57\n",
      "Name: החוץ והבטחון\n",
      "ParentCommitteeID: null\n",
      "StartDate: 1999-06-07 00:00:00\n",
      "\n",
      "-- row 4 --\n",
      "AdditionalTypeDesc: קבועה\n",
      "AdditionalTypeID: 991\n",
      "CategoryDesc: ועדת הכלכלה\n",
      "CategoryID: 3\n",
      "CommitteeID: 4\n",
      "CommitteeParentName: null\n",
      "CommitteeTypeDesc: ועדה ראשית\n",
      "CommitteeTypeID: 71\n",
      "Email: null\n",
      "FinishDate: null\n",
      "IsCurrent: true\n",
      "KnessetNum: 15\n",
      "LastUpdatedDate: 2015-03-20 12:02:57\n",
      "Name: הכלכלה\n",
      "ParentCommitteeID: null\n",
      "StartDate: 1999-06-07 00:00:00\n",
      "\n",
      "-- row 5 --\n",
      "AdditionalTypeDesc: קבועה\n",
      "AdditionalTypeID: 991\n",
      "CategoryDesc: ועדת הפנים והגנת הסביבה\n",
      "CategoryID: 5\n",
      "CommitteeID: 5\n",
      "CommitteeParentName: null\n",
      "CommitteeTypeDesc: ועדה ראשית\n",
      "CommitteeTypeID: 71\n",
      "Email: null\n",
      "FinishDate: null\n",
      "IsCurrent: true\n",
      "KnessetNum: 15\n",
      "LastUpdatedDate: 2015-03-20 12:02:57\n",
      "Name: הפנים ואיכות הסביבה\n",
      "ParentCommitteeID: null\n",
      "StartDate: 1999-06-07 00:00:00\n",
      "\n"
     ]
    }
   ],
   "source": [
    "for i, row in enumerate(kns_committee_package.get_resource(KNS_COMMITTEE_RESOURE_NAME).iter(keyed=True), 1):\n",
    "    if i > 5: continue\n",
    "    print(f'-- row {i} --')\n",
    "    print(yaml.dump(row, allow_unicode=True, default_flow_style=False))\n",
    "    "
   ]
  }
 ],
 "metadata": {
  "kernelspec": {
   "display_name": "Python 3",
   "language": "python",
   "name": "python3"
  },
  "language_info": {
   "codemirror_mode": {
    "name": "ipython",
    "version": 3
   },
   "file_extension": ".py",
   "mimetype": "text/x-python",
   "name": "python",
   "nbconvert_exporter": "python",
   "pygments_lexer": "ipython3",
   "version": "3.6.6"
  }
 },
 "nbformat": 4,
 "nbformat_minor": 2
}
